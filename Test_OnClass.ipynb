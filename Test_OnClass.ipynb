{
  "nbformat": 4,
  "nbformat_minor": 0,
  "metadata": {
    "colab": {
      "provenance": [],
      "authorship_tag": "ABX9TyO/LjkLzr3EgqMQKGRWDv+a",
      "include_colab_link": true
    },
    "kernelspec": {
      "name": "python3",
      "display_name": "Python 3"
    },
    "language_info": {
      "name": "python"
    }
  },
  "cells": [
    {
      "cell_type": "markdown",
      "metadata": {
        "id": "view-in-github",
        "colab_type": "text"
      },
      "source": [
        "<a href=\"https://colab.research.google.com/github/UTExDrake/AI_Basic/blob/main/Test.ipynb\" target=\"_parent\"><img src=\"https://colab.research.google.com/assets/colab-badge.svg\" alt=\"Open In Colab\"/></a>"
      ]
    },
    {
      "cell_type": "code",
      "source": [
        "### Le Dang Khoa_20146497 ###\n",
        "from sklearn import datasets\n",
        "from sklearn.linear_model import Perceptron\n",
        "from sklearn.model_selection import train_test_split\n",
        "from sklearn.metrics import accuracy_score\n",
        "from sklearn.preprocessing import StandardScaler\n",
        "import seaborn as sas\n",
        "import numpy as np\n",
        "import pandas as pd\n",
        "data = pd.read_csv('lung_cancer_examples.csv')\n",
        "data.head()\n",
        "###--------------------------###\n",
        "x = data.drop(['Name','Surname','Result'], axis = 1)\n",
        "print(x[:5])\n",
        "###--------------------------###\n",
        "y = data.drop(['Name', 'Surname', 'Age', 'Smokes', 'AreaQ', 'Alkhol'], axis = 1)\n",
        "print(y[:5])\n",
        "###--------------------------###\n",
        "x_train, x_test, y_train, y_test = train_test_split(x,y,test_size = 0.3)\n",
        "sc = StandardScaler()\n",
        "sc.fit(x_train)\n",
        "x_train_std = sc.transform(x_train)\n",
        "x_test_std = sc.transform(x_test)\n",
        "print(x_train_std[:5])\n",
        "print(y.T)\n",
        "###--------------------------###\n",
        "model = Perceptron(max_iter = 400, eta0= 1 , random_state = 0) #so lan train, toc do hoc\n",
        "model.fit(x_train_std, y_train)\n",
        "y_pred = model.predict(x_test_std)\n",
        "print(y_pred[:10])\n",
        "print(y_test[:10].T)\n",
        "print(\"Do chinh xac cua mo hinh:\", accuracy_score(y_test, y_pred))"
      ],
      "metadata": {
        "colab": {
          "base_uri": "https://localhost:8080/"
        },
        "id": "2Y_uqQdnrcJX",
        "outputId": "fd4c2f3d-8c4a-4dc6-831a-6efb42e0912d"
      },
      "execution_count": 8,
      "outputs": [
        {
          "output_type": "stream",
          "name": "stdout",
          "text": [
            "   Age  Smokes  AreaQ  Alkhol\n",
            "0   35       3      5       4\n",
            "1   27      20      2       5\n",
            "2   30       0      5       2\n",
            "3   28       0      8       1\n",
            "4   68       4      5       6\n",
            "   Result\n",
            "0       1\n",
            "1       1\n",
            "2       0\n",
            "3       0\n",
            "4       1\n",
            "[[ 0.38319142 -0.17935746 -1.82562126  1.91617148]\n",
            " [ 0.19835791 -1.54114556  1.18560461 -0.94810568]\n",
            " [ 1.30735897  0.50153659 -0.10492076  1.09780658]\n",
            " [-0.97225431 -1.94968199 -0.10492076 -0.94810568]\n",
            " [-0.10969794 -0.17935746  0.75542949 -0.53892323]]\n",
            "        0   1   2   3   4   5   6   7   8   9   ...  49  50  51  52  53  54  \\\n",
            "Result   1   1   0   0   1   0   0   0   0   1  ...   1   0   1   1   0   0   \n",
            "\n",
            "        55  56  57  58  \n",
            "Result   1   1   1   0  \n",
            "\n",
            "[1 rows x 59 columns]\n",
            "[1 0 0 1 0 0 1 1 1 1]\n",
            "        29  38  5   18  58  2   48  24  28  20\n",
            "Result   1   0   0   1   0   0   1   1   1   1\n",
            "Do chinh xac cua mo hinh: 0.9444444444444444\n"
          ]
        },
        {
          "output_type": "stream",
          "name": "stderr",
          "text": [
            "/usr/local/lib/python3.9/dist-packages/sklearn/utils/validation.py:1143: DataConversionWarning: A column-vector y was passed when a 1d array was expected. Please change the shape of y to (n_samples, ), for example using ravel().\n",
            "  y = column_or_1d(y, warn=True)\n"
          ]
        }
      ]
    }
  ]
}
