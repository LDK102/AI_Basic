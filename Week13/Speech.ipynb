{
  "nbformat": 4,
  "nbformat_minor": 0,
  "metadata": {
    "colab": {
      "provenance": [],
      "mount_file_id": "1qZ_JorIEJmk0SFwAstjAndWT7IuFXDBU",
      "authorship_tag": "ABX9TyPBd5QOFyy9M9EAmLV46sYW",
      "include_colab_link": true
    },
    "kernelspec": {
      "name": "python3",
      "display_name": "Python 3"
    },
    "language_info": {
      "name": "python"
    }
  },
  "cells": [
    {
      "cell_type": "markdown",
      "metadata": {
        "id": "view-in-github",
        "colab_type": "text"
      },
      "source": [
        "<a href=\"https://colab.research.google.com/github/UTExDrake/AI_Basic/blob/main/Week13/Speech.ipynb\" target=\"_parent\"><img src=\"https://colab.research.google.com/assets/colab-badge.svg\" alt=\"Open In Colab\"/></a>"
      ]
    },
    {
      "cell_type": "code",
      "execution_count": null,
      "metadata": {
        "colab": {
          "base_uri": "https://localhost:8080/"
        },
        "id": "BxdXircgD1Qs",
        "outputId": "99221850-fce4-41f1-d199-529cfc31ec35"
      },
      "outputs": [
        {
          "output_type": "stream",
          "name": "stdout",
          "text": [
            "Looking in indexes: https://pypi.org/simple, https://us-python.pkg.dev/colab-wheels/public/simple/\n",
            "Requirement already satisfied: SpeechRecognition in /usr/local/lib/python3.9/dist-packages (3.10.0)\n",
            "Requirement already satisfied: requests>=2.26.0 in /usr/local/lib/python3.9/dist-packages (from SpeechRecognition) (2.27.1)\n",
            "Requirement already satisfied: idna<4,>=2.5 in /usr/local/lib/python3.9/dist-packages (from requests>=2.26.0->SpeechRecognition) (3.4)\n",
            "Requirement already satisfied: certifi>=2017.4.17 in /usr/local/lib/python3.9/dist-packages (from requests>=2.26.0->SpeechRecognition) (2022.12.7)\n",
            "Requirement already satisfied: charset-normalizer~=2.0.0 in /usr/local/lib/python3.9/dist-packages (from requests>=2.26.0->SpeechRecognition) (2.0.12)\n",
            "Requirement already satisfied: urllib3<1.27,>=1.21.1 in /usr/local/lib/python3.9/dist-packages (from requests>=2.26.0->SpeechRecognition) (1.26.15)\n"
          ]
        }
      ],
      "source": [
        "!pip install SpeechRecognition"
      ]
    },
    {
      "cell_type": "code",
      "source": [
        "file = 'male.wav'\n",
        "import speech_recognition as sr\n",
        "r = sr.Recognizer()\n",
        "with sr.AudioFile(file) as source:\n",
        "  audio_data = r.record(source)\n",
        "  text = r.recognize_google(audio_data)\n",
        "  print(text)"
      ],
      "metadata": {
        "colab": {
          "base_uri": "https://localhost:8080/"
        },
        "id": "SoIK_y4DD7b4",
        "outputId": "e77c3a97-e1e3-44a2-9aee-cbfbe26c9aa4"
      },
      "execution_count": null,
      "outputs": [
        {
          "output_type": "stream",
          "name": "stdout",
          "text": [
            "what if somebody decides to break it be careful that you keep adequate coverage but look for places to save money baby it's taking longer to get things squared away than the bankers expected during the wife for once company may win her tax hated retirement income as helpful as our cost on the two naked bone when the title of this type of song is in question there's no dying or waxing or gassing needed maybe personalized leather hard place work on a flat surface and smooth out the simplest kind of separate system uses a single self-contained unit the old shop at it still holds a good mechanic is usually a bad boss both figures would go higher in later years doll houses at set\n"
          ]
        }
      ]
    },
    {
      "cell_type": "code",
      "source": [
        "# with test as source:\n",
        "with sr.AudioFile(file) as source:\n",
        "  audio1 = r.record(source, duration=4)\n",
        "  audio2 = r.record(source, duration=10)\n",
        "print(r.recognize_google(audio1))\n",
        "print(r.recognize_google(audio2))\n"
      ],
      "metadata": {
        "colab": {
          "base_uri": "https://localhost:8080/"
        },
        "id": "IF2OuVWIEGKH",
        "outputId": "1a1c9385-03a2-44d8-ac8c-4468e3360257"
      },
      "execution_count": null,
      "outputs": [
        {
          "output_type": "stream",
          "name": "stdout",
          "text": [
            "what if somebody decides to break it be careful that you keep attic\n",
            "but look for places to save money baby it's taking longer to get things squared away than the bankers expected hiring the Y for one company may win her tie\n"
          ]
        }
      ]
    },
    {
      "cell_type": "code",
      "source": [
        "file = 'male.wav'\n",
        "import speech_recognition as sr\n",
        "r = sr.Recognizer()\n",
        "with sr.AudioFile(file) as source:\n",
        "  audio_data = r.record(source, duration = 4)\n",
        "  text = r.recognize_google(audio_data, language='en-AU')\n",
        "  print(text)"
      ],
      "metadata": {
        "colab": {
          "base_uri": "https://localhost:8080/"
        },
        "id": "Tqs61MbdFTns",
        "outputId": "31ce8325-3781-43f0-f39a-0397c732b477"
      },
      "execution_count": null,
      "outputs": [
        {
          "output_type": "stream",
          "name": "stdout",
          "text": [
            "what if somebody decides to break it be careful that you keep attic\n"
          ]
        }
      ]
    },
    {
      "cell_type": "code",
      "source": [
        "!pip install gTTS\n",
        "!pip install playsound"
      ],
      "metadata": {
        "colab": {
          "base_uri": "https://localhost:8080/"
        },
        "id": "rXF1HfN7GPuX",
        "outputId": "158cf4dc-cec5-4d14-a61f-ddbeb6a5635a"
      },
      "execution_count": null,
      "outputs": [
        {
          "output_type": "stream",
          "name": "stdout",
          "text": [
            "Looking in indexes: https://pypi.org/simple, https://us-python.pkg.dev/colab-wheels/public/simple/\n",
            "Requirement already satisfied: gTTS in /usr/local/lib/python3.9/dist-packages (2.3.1)\n",
            "Requirement already satisfied: click<8.2,>=7.1 in /usr/local/lib/python3.9/dist-packages (from gTTS) (8.1.3)\n",
            "Requirement already satisfied: requests<3,>=2.27 in /usr/local/lib/python3.9/dist-packages (from gTTS) (2.27.1)\n",
            "Requirement already satisfied: certifi>=2017.4.17 in /usr/local/lib/python3.9/dist-packages (from requests<3,>=2.27->gTTS) (2022.12.7)\n",
            "Requirement already satisfied: urllib3<1.27,>=1.21.1 in /usr/local/lib/python3.9/dist-packages (from requests<3,>=2.27->gTTS) (1.26.15)\n",
            "Requirement already satisfied: idna<4,>=2.5 in /usr/local/lib/python3.9/dist-packages (from requests<3,>=2.27->gTTS) (3.4)\n",
            "Requirement already satisfied: charset-normalizer~=2.0.0 in /usr/local/lib/python3.9/dist-packages (from requests<3,>=2.27->gTTS) (2.0.12)\n",
            "Looking in indexes: https://pypi.org/simple, https://us-python.pkg.dev/colab-wheels/public/simple/\n",
            "Collecting playsound\n",
            "  Downloading playsound-1.3.0.tar.gz (7.7 kB)\n",
            "  Preparing metadata (setup.py) ... \u001b[?25l\u001b[?25hdone\n",
            "Building wheels for collected packages: playsound\n",
            "  Building wheel for playsound (setup.py) ... \u001b[?25l\u001b[?25hdone\n",
            "  Created wheel for playsound: filename=playsound-1.3.0-py3-none-any.whl size=7035 sha256=4a92eb25c8dc42b7c1420676a3abcb9e23b5844c402e4489520e9bf869e8918e\n",
            "  Stored in directory: /root/.cache/pip/wheels/ba/39/54/c8f7ff9a88a644d3c58b4dec802d90b79a2e0fb2a6b884bf82\n",
            "Successfully built playsound\n",
            "Installing collected packages: playsound\n",
            "Successfully installed playsound-1.3.0\n"
          ]
        }
      ]
    },
    {
      "cell_type": "code",
      "source": [
        "from gtts import gTTS\n",
        "import os\n",
        "A = '(Oh, oh) oh, no, oh no (oh)\\\n",
        "Hey, yeah, diri-diri-diriridi, Daddy, go!\\\n",
        "Sí, sabes que ya llevo un rato mirándote\\\n",
        "Tengo que bailar contigo hoy (DY)\\\n",
        "Vi que tu mirada ya estaba llamándome\\\n",
        "Muéstrame el camino, que yo voy (oh)\\\n",
        "Tú, tú eres el imán y yo soy el metal\\\n",
        "Me voy acercando y voy armando el plan\\\n",
        "Solo con pensarlo se acelera el pulso (oh, yeah)\\\n",
        "Ya, ya me estás gustando más de lo normal\\\n",
        "Todos mis sentidos van pidiendo más\\\n",
        "Esto hay que tomarlo sin ningún apuro\\\n",
        "Despacito\\\n",
        "Quiero respirar tu cuello despacito\\\n",
        "Deja que te diga cosas al oído\\\n",
        "Para que te acuerdes si no estás conmigo\\\n",
        "Despacito\\\n",
        "Quiero desnudarte a besos, despacito\\\n",
        "Firmar las paredes de tu laberinto\\\n",
        "Y hacer de tu cuerpo todo un manuscrito (sube, sube, sube)\\\n",
        "Sube, sube (oh)\\\n",
        "Quiero ver bailar tu pelo, quiero ser tu ritmo\\\n",
        "Que le enseñes a mi boca tus lugares favoritos\\\n",
        "(Favoritos, favoritos, baby)\\\n",
        "Déjame sobrepasar tus zonas de peligro\\\n",
        "Hasta provocar tus gritos y que olvides tu apellido\\\n",
        "Si te pido un beso, ven, dámelo\\\n",
        "Yo sé que estás pensándolo\\\n",
        "Llevo tiempo intentándolo\\\n",
        "Mami, esto es dando y dándolo\\\n",
        "Sabes que tu corazón conmigo te hace bam-bam\\\n",
        "Sabes que esa beba está buscando de mi bam-bam\\\n",
        "Ven, prueba de mi boca para ver cómo te sabe\\\n",
        "Quiero, quiero, quiero ver cuánto amor a ti te cabe\\\n",
        "Yo no tengo prisa, yo me quiero dar el viaje\\\n",
        "Empezamos lento, después salvaje\\\n",
        "Pasito a pasito, suave, suavecito\\\n",
        "Nos vamos pegando poquito a poquito\\\n",
        "Cuando tú me besas con esa destreza\\\n",
        "Veo que eres malicia con delicadeza\\\n",
        "Pasito a pasito, suave, suavecito\\\n",
        "Nos vamos pegand\\o poquito a poquito\\\n",
        "Y es que esa belleza es un rompecabezas\\\n",
        "Pero pa\\\n",
        "montarlo, aquí tengo la pieza, oye\\\n",
        "Despacito\\\n",
        "Quiero respirar tu cuello despacito\\\n",
        "Deja que te diga cosas al oído\\\n",
        "Para que te acuerdes si no estás conmigo\\\n",
        "Despacito'\n",
        "speak = gTTS(text = A, lang = 'es', slow = False)\n",
        "speak.save('Test.mp3')\n",
        "# playsound('Test1.mp3')\n",
        "# os.remove('test3.mp3')\n",
        "print('text:', A)"
      ],
      "metadata": {
        "colab": {
          "base_uri": "https://localhost:8080/"
        },
        "id": "e9L5VCTQKAVJ",
        "outputId": "860e7b9e-b8fe-4113-b2da-3741d435bbed"
      },
      "execution_count": null,
      "outputs": [
        {
          "output_type": "stream",
          "name": "stdout",
          "text": [
            "text: (Oh, oh) oh, no, oh no (oh)Hey, yeah, diri-diri-diriridi, Daddy, go!Sí, sabes que ya llevo un rato mirándoteTengo que bailar contigo hoy (DY)Vi que tu mirada ya estaba llamándomeMuéstrame el camino, que yo voy (oh)Tú, tú eres el imán y yo soy el metalMe voy acercando y voy armando el planSolo con pensarlo se acelera el pulso (oh, yeah)Ya, ya me estás gustando más de lo normalTodos mis sentidos van pidiendo másEsto hay que tomarlo sin ningún apuroDespacitoQuiero respirar tu cuello despacitoDeja que te diga cosas al oídoPara que te acuerdes si no estás conmigoDespacitoQuiero desnudarte a besos, despacitoFirmar las paredes de tu laberintoY hacer de tu cuerpo todo un manuscrito (sube, sube, sube)Sube, sube (oh)Quiero ver bailar tu pelo, quiero ser tu ritmoQue le enseñes a mi boca tus lugares favoritos(Favoritos, favoritos, baby)Déjame sobrepasar tus zonas de peligroHasta provocar tus gritos y que olvides tu apellidoSi te pido un beso, ven, dámeloYo sé que estás pensándoloLlevo tiempo intentándoloMami, esto es dando y dándoloSabes que tu corazón conmigo te hace bam-bamSabes que esa beba está buscando de mi bam-bamVen, prueba de mi boca para ver cómo te sabeQuiero, quiero, quiero ver cuánto amor a ti te cabeYo no tengo prisa, yo me quiero dar el viajeEmpezamos lento, después salvajePasito a pasito, suave, suavecitoNos vamos pegando poquito a poquitoCuando tú me besas con esa destrezaVeo que eres malicia con delicadezaPasito a pasito, suave, suavecitoNos vamos pegand\\o poquito a poquitoY es que esa belleza es un rompecabezasPero pamontarlo, aquí tengo la pieza, oyeDespacitoQuiero respirar tu cuello despacitoDeja que te diga cosas al oídoPara que te acuerdes si no estás conmigoDespacito\n"
          ]
        }
      ]
    },
    {
      "cell_type": "code",
      "source": [
        "!pip install googletrans==3.1.0a.0"
      ],
      "metadata": {
        "colab": {
          "base_uri": "https://localhost:8080/"
        },
        "id": "ZM5bO1YHLjYE",
        "outputId": "55a5f2b6-ae7b-42d9-d2b2-5559781a897b"
      },
      "execution_count": null,
      "outputs": [
        {
          "output_type": "stream",
          "name": "stdout",
          "text": [
            "Looking in indexes: https://pypi.org/simple, https://us-python.pkg.dev/colab-wheels/public/simple/\n",
            "Collecting googletrans==3.1.0a.0\n",
            "  Downloading googletrans-3.1.0a0.tar.gz (19 kB)\n",
            "  Preparing metadata (setup.py) ... \u001b[?25l\u001b[?25hdone\n",
            "Requirement already satisfied: httpx==0.13.3 in /usr/local/lib/python3.9/dist-packages (from googletrans==3.1.0a.0) (0.13.3)\n",
            "Requirement already satisfied: sniffio in /usr/local/lib/python3.9/dist-packages (from httpx==0.13.3->googletrans==3.1.0a.0) (1.3.0)\n",
            "Requirement already satisfied: hstspreload in /usr/local/lib/python3.9/dist-packages (from httpx==0.13.3->googletrans==3.1.0a.0) (2023.1.1)\n",
            "Requirement already satisfied: certifi in /usr/local/lib/python3.9/dist-packages (from httpx==0.13.3->googletrans==3.1.0a.0) (2022.12.7)\n",
            "Requirement already satisfied: rfc3986<2,>=1.3 in /usr/local/lib/python3.9/dist-packages (from httpx==0.13.3->googletrans==3.1.0a.0) (1.5.0)\n",
            "Requirement already satisfied: chardet==3.* in /usr/local/lib/python3.9/dist-packages (from httpx==0.13.3->googletrans==3.1.0a.0) (3.0.4)\n",
            "Requirement already satisfied: httpcore==0.9.* in /usr/local/lib/python3.9/dist-packages (from httpx==0.13.3->googletrans==3.1.0a.0) (0.9.1)\n",
            "Requirement already satisfied: idna==2.* in /usr/local/lib/python3.9/dist-packages (from httpx==0.13.3->googletrans==3.1.0a.0) (2.10)\n",
            "Requirement already satisfied: h11<0.10,>=0.8 in /usr/local/lib/python3.9/dist-packages (from httpcore==0.9.*->httpx==0.13.3->googletrans==3.1.0a.0) (0.9.0)\n",
            "Requirement already satisfied: h2==3.* in /usr/local/lib/python3.9/dist-packages (from httpcore==0.9.*->httpx==0.13.3->googletrans==3.1.0a.0) (3.2.0)\n",
            "Requirement already satisfied: hyperframe<6,>=5.2.0 in /usr/local/lib/python3.9/dist-packages (from h2==3.*->httpcore==0.9.*->httpx==0.13.3->googletrans==3.1.0a.0) (5.2.0)\n",
            "Requirement already satisfied: hpack<4,>=3.0 in /usr/local/lib/python3.9/dist-packages (from h2==3.*->httpcore==0.9.*->httpx==0.13.3->googletrans==3.1.0a.0) (3.0.0)\n",
            "Building wheels for collected packages: googletrans\n",
            "  Building wheel for googletrans (setup.py) ... \u001b[?25l\u001b[?25hdone\n",
            "  Created wheel for googletrans: filename=googletrans-3.1.0a0-py3-none-any.whl size=16368 sha256=e61d1816339db14625357990c882377b5b2ed0e254ca4bfab945adc1e1bf6932\n",
            "  Stored in directory: /root/.cache/pip/wheels/ae/e1/6c/5137bc3f35aa130deea71575e165cc4f4f0680a88f3d90a636\n",
            "Successfully built googletrans\n",
            "Installing collected packages: googletrans\n",
            "  Attempting uninstall: googletrans\n",
            "    Found existing installation: googletrans 3.0.0\n",
            "    Uninstalling googletrans-3.0.0:\n",
            "      Successfully uninstalled googletrans-3.0.0\n",
            "Successfully installed googletrans-3.1.0a0\n"
          ]
        }
      ]
    },
    {
      "cell_type": "code",
      "source": [
        "from googletrans import Translator\n",
        "translator = Translator()\n",
        "translation = translator.translate('hey baby', dest = 'vi')\n",
        "print(translation.text)"
      ],
      "metadata": {
        "colab": {
          "base_uri": "https://localhost:8080/"
        },
        "id": "KQ3c0KxoRpaS",
        "outputId": "28dfbaa1-d869-4108-b5d6-e2fcffd27f6d"
      },
      "execution_count": null,
      "outputs": [
        {
          "output_type": "stream",
          "name": "stdout",
          "text": [
            "này cưng\n"
          ]
        }
      ]
    },
    {
      "cell_type": "markdown",
      "source": [
        "Wave -> Text -> Translate -> Speech -> Mp3"
      ],
      "metadata": {
        "id": "K1pbV0sCTd6v"
      }
    }
  ]
}