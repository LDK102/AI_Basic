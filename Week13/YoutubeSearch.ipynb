{
  "nbformat": 4,
  "nbformat_minor": 0,
  "metadata": {
    "colab": {
      "provenance": [],
      "mount_file_id": "1lZM5OyDnGea0eQJDd9CR08PEA-RDwrM3",
      "authorship_tag": "ABX9TyN4Sk8nWKLGLoCUb3PYRdXT",
      "include_colab_link": true
    },
    "kernelspec": {
      "name": "python3",
      "display_name": "Python 3"
    },
    "language_info": {
      "name": "python"
    },
    "accelerator": "GPU",
    "gpuClass": "standard"
  },
  "cells": [
    {
      "cell_type": "markdown",
      "metadata": {
        "id": "view-in-github",
        "colab_type": "text"
      },
      "source": [
        "<a href=\"https://colab.research.google.com/github/UTExDrake/AI_Basic/blob/main/Week13/YoutubeSearch.ipynb\" target=\"_parent\"><img src=\"https://colab.research.google.com/assets/colab-badge.svg\" alt=\"Open In Colab\"/></a>"
      ]
    },
    {
      "cell_type": "code",
      "execution_count": null,
      "metadata": {
        "colab": {
          "base_uri": "https://localhost:8080/"
        },
        "id": "r74OI1x0lVy0",
        "outputId": "0a9f0ac8-8355-4c2f-bd53-c7ea4250d429"
      },
      "outputs": [
        {
          "output_type": "stream",
          "name": "stdout",
          "text": [
            "Looking in indexes: https://pypi.org/simple, https://us-python.pkg.dev/colab-wheels/public/simple/\n",
            "Requirement already satisfied: google-auth in /usr/local/lib/python3.9/dist-packages (2.17.3)\n",
            "Requirement already satisfied: google-auth-oauthlib in /usr/local/lib/python3.9/dist-packages (1.0.0)\n",
            "Requirement already satisfied: google-auth-httplib2 in /usr/local/lib/python3.9/dist-packages (0.1.0)\n",
            "Requirement already satisfied: google-api-python-client in /usr/local/lib/python3.9/dist-packages (2.84.0)\n",
            "Requirement already satisfied: rsa<5,>=3.1.4 in /usr/local/lib/python3.9/dist-packages (from google-auth) (4.9)\n",
            "Requirement already satisfied: six>=1.9.0 in /usr/local/lib/python3.9/dist-packages (from google-auth) (1.16.0)\n",
            "Requirement already satisfied: pyasn1-modules>=0.2.1 in /usr/local/lib/python3.9/dist-packages (from google-auth) (0.2.8)\n",
            "Requirement already satisfied: cachetools<6.0,>=2.0.0 in /usr/local/lib/python3.9/dist-packages (from google-auth) (5.3.0)\n",
            "Requirement already satisfied: requests-oauthlib>=0.7.0 in /usr/local/lib/python3.9/dist-packages (from google-auth-oauthlib) (1.3.1)\n",
            "Requirement already satisfied: httplib2>=0.15.0 in /usr/local/lib/python3.9/dist-packages (from google-auth-httplib2) (0.21.0)\n",
            "Requirement already satisfied: google-api-core!=2.0.*,!=2.1.*,!=2.2.*,!=2.3.0,<3.0.0dev,>=1.31.5 in /usr/local/lib/python3.9/dist-packages (from google-api-python-client) (2.11.0)\n",
            "Requirement already satisfied: uritemplate<5,>=3.0.1 in /usr/local/lib/python3.9/dist-packages (from google-api-python-client) (4.1.1)\n",
            "Requirement already satisfied: protobuf!=3.20.0,!=3.20.1,!=4.21.0,!=4.21.1,!=4.21.2,!=4.21.3,!=4.21.4,!=4.21.5,<5.0.0dev,>=3.19.5 in /usr/local/lib/python3.9/dist-packages (from google-api-core!=2.0.*,!=2.1.*,!=2.2.*,!=2.3.0,<3.0.0dev,>=1.31.5->google-api-python-client) (3.20.3)\n",
            "Requirement already satisfied: googleapis-common-protos<2.0dev,>=1.56.2 in /usr/local/lib/python3.9/dist-packages (from google-api-core!=2.0.*,!=2.1.*,!=2.2.*,!=2.3.0,<3.0.0dev,>=1.31.5->google-api-python-client) (1.59.0)\n",
            "Requirement already satisfied: requests<3.0.0dev,>=2.18.0 in /usr/local/lib/python3.9/dist-packages (from google-api-core!=2.0.*,!=2.1.*,!=2.2.*,!=2.3.0,<3.0.0dev,>=1.31.5->google-api-python-client) (2.27.1)\n",
            "Requirement already satisfied: pyparsing!=3.0.0,!=3.0.1,!=3.0.2,!=3.0.3,<4,>=2.4.2 in /usr/local/lib/python3.9/dist-packages (from httplib2>=0.15.0->google-auth-httplib2) (3.0.9)\n",
            "Requirement already satisfied: pyasn1<0.5.0,>=0.4.6 in /usr/local/lib/python3.9/dist-packages (from pyasn1-modules>=0.2.1->google-auth) (0.4.8)\n",
            "Requirement already satisfied: oauthlib>=3.0.0 in /usr/local/lib/python3.9/dist-packages (from requests-oauthlib>=0.7.0->google-auth-oauthlib) (3.2.2)\n",
            "Requirement already satisfied: urllib3<1.27,>=1.21.1 in /usr/local/lib/python3.9/dist-packages (from requests<3.0.0dev,>=2.18.0->google-api-core!=2.0.*,!=2.1.*,!=2.2.*,!=2.3.0,<3.0.0dev,>=1.31.5->google-api-python-client) (1.26.15)\n",
            "Requirement already satisfied: certifi>=2017.4.17 in /usr/local/lib/python3.9/dist-packages (from requests<3.0.0dev,>=2.18.0->google-api-core!=2.0.*,!=2.1.*,!=2.2.*,!=2.3.0,<3.0.0dev,>=1.31.5->google-api-python-client) (2022.12.7)\n",
            "Requirement already satisfied: idna<4,>=2.5 in /usr/local/lib/python3.9/dist-packages (from requests<3.0.0dev,>=2.18.0->google-api-core!=2.0.*,!=2.1.*,!=2.2.*,!=2.3.0,<3.0.0dev,>=1.31.5->google-api-python-client) (3.4)\n",
            "Requirement already satisfied: charset-normalizer~=2.0.0 in /usr/local/lib/python3.9/dist-packages (from requests<3.0.0dev,>=2.18.0->google-api-core!=2.0.*,!=2.1.*,!=2.2.*,!=2.3.0,<3.0.0dev,>=1.31.5->google-api-python-client) (2.0.12)\n"
          ]
        }
      ],
      "source": [
        "!pip install google-auth google-auth-oauthlib google-auth-httplib2 google-api-python-client"
      ]
    },
    {
      "cell_type": "code",
      "source": [
        "pip install youtube_search"
      ],
      "metadata": {
        "colab": {
          "base_uri": "https://localhost:8080/"
        },
        "id": "VUgvvaeumFBK",
        "outputId": "65976d25-993e-4cf3-81a3-94ff12e413b4"
      },
      "execution_count": null,
      "outputs": [
        {
          "output_type": "stream",
          "name": "stdout",
          "text": [
            "Looking in indexes: https://pypi.org/simple, https://us-python.pkg.dev/colab-wheels/public/simple/\n",
            "Requirement already satisfied: youtube_search in /usr/local/lib/python3.9/dist-packages (2.1.2)\n",
            "Requirement already satisfied: requests in /usr/local/lib/python3.9/dist-packages (from youtube_search) (2.27.1)\n",
            "Requirement already satisfied: idna<4,>=2.5 in /usr/local/lib/python3.9/dist-packages (from requests->youtube_search) (3.4)\n",
            "Requirement already satisfied: urllib3<1.27,>=1.21.1 in /usr/local/lib/python3.9/dist-packages (from requests->youtube_search) (1.26.15)\n",
            "Requirement already satisfied: certifi>=2017.4.17 in /usr/local/lib/python3.9/dist-packages (from requests->youtube_search) (2022.12.7)\n",
            "Requirement already satisfied: charset-normalizer~=2.0.0 in /usr/local/lib/python3.9/dist-packages (from requests->youtube_search) (2.0.12)\n"
          ]
        }
      ]
    },
    {
      "cell_type": "code",
      "source": [
        "from youtube_search import YoutubeSearch\n",
        "import webbrowser"
      ],
      "metadata": {
        "id": "2o-Ycv9ymXll"
      },
      "execution_count": null,
      "outputs": []
    },
    {
      "cell_type": "code",
      "source": [
        "mysong = input('Nhap vao ten bai hat')\n",
        "result = YoutubeSearch(mysong, max_results = 10).to_dict()\n",
        "print(result)\n",
        "print(result[0]['url_suffix'])\n",
        "url = 'http://www.youtube.com' + result[0]['url_suffix']\n",
        "print(url)"
      ],
      "metadata": {
        "id": "IudIoLdTnans",
        "colab": {
          "base_uri": "https://localhost:8080/"
        },
        "outputId": "37677183-cad3-4697-e312-8df85fc27046"
      },
      "execution_count": null,
      "outputs": [
        {
          "output_type": "stream",
          "name": "stdout",
          "text": [
            "Nhap vao ten bai hatlà anh\n",
            "[{'id': 'q8AzTS4Yq3I', 'thumbnails': ['https://i.ytimg.com/vi/q8AzTS4Yq3I/hq720.jpg?sqp=-oaymwEjCOgCEMoBSFryq4qpAxUIARUAAAAAGAElAADIQj0AgKJDeAE=&rs=AOn4CLCz0BuG0-VvJQVhtX4eo6oazahGKA', 'https://i.ytimg.com/vi/q8AzTS4Yq3I/hq720.jpg?sqp=-oaymwEXCNAFEJQDSFryq4qpAwkIARUAAIhCGAE=&rs=AOn4CLDXyjx6pbjT8tb_9vjCd6XC3aEEjg'], 'title': '[Vietsub] Là anh - Mộng Nhiên | 是你 - 夢然', 'long_desc': None, 'channel': 'Quyên Louis', 'duration': '3:42', 'views': '7.288.016 weergaven', 'publish_time': '7 maanden geleden', 'url_suffix': '/watch?v=q8AzTS4Yq3I&pp=ygUHbMOgIGFuaA%3D%3D'}, {'id': 'Yd5FT7RaAM4', 'thumbnails': ['https://i.ytimg.com/vi/Yd5FT7RaAM4/hq720.jpg?sqp=-oaymwEjCOgCEMoBSFryq4qpAxUIARUAAAAAGAElAADIQj0AgKJDeAE=&rs=AOn4CLDakN1JjLmBaWiSfTFO84k006EnzQ', 'https://i.ytimg.com/vi/Yd5FT7RaAM4/hq720.jpg?sqp=-oaymwEXCNAFEJQDSFryq4qpAwkIARUAAIhCGAE=&rs=AOn4CLDM0ircxDdaAdG1CVQlInGAo1YAJg'], 'title': 'Là Anh - Phạm Lịch [ Official Lyrics Video]', 'long_desc': None, 'channel': 'PHẠM LỊCH 🎶', 'duration': '3:32', 'views': '428.093 weergaven', 'publish_time': '1 maand geleden', 'url_suffix': '/watch?v=Yd5FT7RaAM4&pp=ygUHbMOgIGFuaA%3D%3D'}, {'id': '6-LmZLjS5WI', 'thumbnails': ['https://i.ytimg.com/vi/6-LmZLjS5WI/hq720.jpg?sqp=-oaymwEjCOgCEMoBSFryq4qpAxUIARUAAAAAGAElAADIQj0AgKJDeAE=&rs=AOn4CLB4mhpf_4DnjflJPV-0chbl2T7vcQ', 'https://i.ytimg.com/vi/6-LmZLjS5WI/hq720.jpg?sqp=-oaymwEXCNAFEJQDSFryq4qpAwkIARUAAIhCGAE=&rs=AOn4CLBNW9BsbiYX45H3uI8OPhPfVCoVCQ'], 'title': 'LÀ ANH - Cover Nhạc Ngoại Lời Việt by PHẠM LỊCH ( It’s You -Mộng Nhiên)', 'long_desc': None, 'channel': 'PHẠM LỊCH 🎶', 'duration': '3:43', 'views': '17.251.883 weergaven', 'publish_time': '1 maand geleden', 'url_suffix': '/watch?v=6-LmZLjS5WI&pp=ygUHbMOgIGFuaA%3D%3D'}, {'id': 'cYs6uN5vsfs', 'thumbnails': ['https://i.ytimg.com/vi/cYs6uN5vsfs/hq720.jpg?sqp=-oaymwEjCOgCEMoBSFryq4qpAxUIARUAAAAAGAElAADIQj0AgKJDeAE=&rs=AOn4CLBLXANRUHyHo6II3q_p0n0O4xx2OA', 'https://i.ytimg.com/vi/cYs6uN5vsfs/hq720.jpg?sqp=-oaymwEXCNAFEJQDSFryq4qpAwkIARUAAIhCGAE=&rs=AOn4CLBhlo8AmP3FV5RBxPbz0bef1Ifl0w'], 'title': 'Là Anh - Này Không Gian Bao La Thuộc Về Cho Riêng Cho Hai Ta| Nhạc Trẻ Đang Hot Nhất Tiktok Hiện Nay', 'long_desc': None, 'channel': 'Ngày Buồn Nhất', 'duration': '1:34:10', 'views': '199.126 weergaven', 'publish_time': '1 maand geleden', 'url_suffix': '/watch?v=cYs6uN5vsfs&pp=ygUHbMOgIGFuaA%3D%3D'}, {'id': 'K4tmy9PK4Is', 'thumbnails': ['https://i.ytimg.com/vi/K4tmy9PK4Is/hq720.jpg?sqp=-oaymwE9COgCEMoBSFryq4qpAy8IARUAAAAAGAElAADIQj0AgKJDeAHwAQH4Af4JgALQBYoCDAgAEAEYciBDKF8wDw==&rs=AOn4CLCMWSuBgK77itME4Ovv9n5Xrm-YfA', 'https://i.ytimg.com/vi/K4tmy9PK4Is/hq720.jpg?sqp=-oaymwExCNAFEJQDSFryq4qpAyMIARUAAIhCGAHwAQH4Af4JgALQBYoCDAgAEAEYciBDKF8wDw==&rs=AOn4CLBHPFHxGzVh0fsVHKcnEJpisOfEsw'], 'title': 'Cùng Đi Cùng Đi Ngàn Năm Về Sau Mình Vẫn Có Nhau.. Là Anh Lofi ♫ Nhạc Lofi Chill Hot TikTok 2023', 'long_desc': None, 'channel': 'Cây Bàng Non', 'duration': '2:02:44', 'views': '804.455 weergaven', 'publish_time': '1 maand geleden', 'url_suffix': '/watch?v=K4tmy9PK4Is&pp=ygUHbMOgIGFuaA%3D%3D'}, {'id': 'mVQ_rZzJiiw', 'thumbnails': ['https://i.ytimg.com/vi/mVQ_rZzJiiw/hq720.jpg?sqp=-oaymwEjCOgCEMoBSFryq4qpAxUIARUAAAAAGAElAADIQj0AgKJDeAE=&rs=AOn4CLBwCIKlx06juqr4FHGeGMCpFTC6AQ', 'https://i.ytimg.com/vi/mVQ_rZzJiiw/hq720.jpg?sqp=-oaymwEXCNAFEJQDSFryq4qpAwkIARUAAIhCGAE=&rs=AOn4CLArZ4pEloHjFvWWEuAcBfeLi2qUCw'], 'title': '是你', 'long_desc': None, 'channel': 'Mira - Topic', 'duration': '3:44', 'views': '2.681.743 weergaven', 'publish_time': 0, 'url_suffix': '/watch?v=mVQ_rZzJiiw&pp=ygUHbMOgIGFuaA%3D%3D'}, {'id': 'Ec3ioBgH_-s', 'thumbnails': ['https://i.ytimg.com/vi/Ec3ioBgH_-s/hq720.jpg?sqp=-oaymwEjCOgCEMoBSFryq4qpAxUIARUAAAAAGAElAADIQj0AgKJDeAE=&rs=AOn4CLAmvlLfwHSABAYYAC0GX_fwBcFpvg', 'https://i.ytimg.com/vi/Ec3ioBgH_-s/hq720.jpg?sqp=-oaymwEXCNAFEJQDSFryq4qpAwkIARUAAIhCGAE=&rs=AOn4CLBxLbSX47UHA3v1TeX4bVZT1u71cg'], 'title': 'Là Anh - Phạm Lịch | Lần Đầu Biểu Diễn Live Tại Mây Lang Thang', 'long_desc': None, 'channel': 'Mây Lang Thang', 'duration': '3:39', 'views': '740.862 weergaven', 'publish_time': '2 weken geleden', 'url_suffix': '/watch?v=Ec3ioBgH_-s&pp=ygUHbMOgIGFuaA%3D%3D'}, {'id': 'EZRp1ysuq2I', 'thumbnails': ['https://i.ytimg.com/vi/EZRp1ysuq2I/hq720.jpg?sqp=-oaymwEjCOgCEMoBSFryq4qpAxUIARUAAAAAGAElAADIQj0AgKJDeAE=&rs=AOn4CLCrs9qQl3vb8QhRY9pm4mr46XB90g', 'https://i.ytimg.com/vi/EZRp1ysuq2I/hq720.jpg?sqp=-oaymwEXCNAFEJQDSFryq4qpAwkIARUAAIhCGAE=&rs=AOn4CLA4JE251lIbl9v3nfb7wp_4dUyGcw'], 'title': 'LÀ ANH REMIX | NÀY KHÔNG GIAN BAO LA THUỘC VỀ CHO RIÊNG HAI TA REMIX HOT TIKTOK - NHẠC REMIX 2023', 'long_desc': None, 'channel': 'Việt Mix TV', 'duration': '1:15:36', 'views': '51.128 weergaven', 'publish_time': '1 dag geleden', 'url_suffix': '/watch?v=EZRp1ysuq2I&pp=ygUHbMOgIGFuaA%3D%3D'}, {'id': 'aiqDHUXjM1c', 'thumbnails': ['https://i.ytimg.com/vi/aiqDHUXjM1c/hq720.jpg?sqp=-oaymwEjCOgCEMoBSFryq4qpAxUIARUAAAAAGAElAADIQj0AgKJDeAE=&rs=AOn4CLAlxEyhF-NBQ6026kevbNh1t8P2lg', 'https://i.ytimg.com/vi/aiqDHUXjM1c/hq720.jpg?sqp=-oaymwEXCNAFEJQDSFryq4qpAwkIARUAAIhCGAE=&rs=AOn4CLBgzq6Wm5Fv-OkN5eoStcXQMb41hA'], 'title': 'Là Anh - Phạm Lịch | Siêu Phẩm Âm Nhạc Cực Cuốn tại Mây Sài Gòn | Official Music Video', 'long_desc': None, 'channel': 'Mây Saigon Official ', 'duration': '4:09', 'views': '1.347.970 weergaven', 'publish_time': '3 weken geleden', 'url_suffix': '/watch?v=aiqDHUXjM1c&pp=ygUHbMOgIGFuaA%3D%3D'}, {'id': 'dKFOVbcF6Cw', 'thumbnails': ['https://i.ytimg.com/vi/dKFOVbcF6Cw/hqdefault.jpg?sqp=-oaymwEjCOADEI4CSFryq4qpAxUIARUAAAAAGAElAADIQj0AgKJDeAE=&rs=AOn4CLAaG6gj1frwnH8gebFdkKdnnWwoHg'], 'title': 'Là Anh Remix , Này Không Gian Bao La Thuộc Về Cho Riêng Hai Ta Remix Hot TikTok - Lk Nhạc Remix 2023', 'long_desc': None, 'channel': 'Min Xinh', 'duration': '1:18:14', 'views': '39.127 weergaven', 'publish_time': '17 uur geleden', 'url_suffix': '/watch?v=dKFOVbcF6Cw&pp=ygUHbMOgIGFuaA%3D%3D'}]\n",
            "/watch?v=q8AzTS4Yq3I&pp=ygUHbMOgIGFuaA%3D%3D\n",
            "http://www.youtube.com/watch?v=q8AzTS4Yq3I&pp=ygUHbMOgIGFuaA%3D%3D\n"
          ]
        }
      ]
    },
    {
      "cell_type": "code",
      "source": [
        "from youtube_search import YoutubeSearch\n",
        "import webbrowser\n",
        "from openpyxl import Workbook\n",
        "data = Workbook()\n",
        "sheet = data.active\n",
        "mysong = input('Xin mời bạn chọn tên bài hát: ')\n",
        "print(mysong)\n",
        "print('\\n')\n",
        "# result = YoutubeSearch(mysong, max_results = 10).to_dict()\n",
        "# print(result)\n",
        "for i in range(10):\n",
        "  result = YoutubeSearch(mysong, max_results = 10).to_dict()\n",
        "  print(result[i]['title'])\n",
        "  print(result[i]['url_suffix'])\n",
        "  url = 'https://www.youtube.com' + result[i]['url_suffix']\n",
        "  print(url)\n",
        "  print(result[i]['views'] + '\\n')\n",
        "  print(result[i]['duration'] + '\\n')\n",
        "  print(result[i]['publish_time'])\n",
        "  # sheet['A' + str(i+1)] = i + 1\n",
        "  # sheet['B' + str(i+1)] = result[i]['title']\n",
        "  # sheet['C' + str(i+1)] = result[i]['url_suffix']\n",
        "  # sheet['D' + str(i+1)] = result[i]['views']\n",
        "  webbrowser.open(url)\n",
        "data.save('Test.xlsx')"
      ],
      "metadata": {
        "id": "Ag0hV4broaXL",
        "colab": {
          "base_uri": "https://localhost:8080/"
        },
        "outputId": "b990e735-a064-432c-ae1d-43fc33fa9873"
      },
      "execution_count": null,
      "outputs": [
        {
          "output_type": "stream",
          "name": "stdout",
          "text": [
            "Xin mời bạn chọn tên bài hát: là anh\n",
            "là anh\n",
            "\n",
            "\n",
            "[Vietsub] Là anh - Mộng Nhiên | 是你 - 夢然\n",
            "/watch?v=q8AzTS4Yq3I&pp=ygUHbMOgIGFuaA%3D%3D\n",
            "https://www.youtube.com/watch?v=q8AzTS4Yq3I&pp=ygUHbMOgIGFuaA%3D%3D\n",
            "7.288.016 weergaven\n",
            "\n",
            "3:42\n",
            "\n",
            "7 maanden geleden\n",
            "Là Anh - Phạm Lịch [ Official Lyrics Video]\n",
            "/watch?v=Yd5FT7RaAM4&pp=ygUHbMOgIGFuaA%3D%3D\n",
            "https://www.youtube.com/watch?v=Yd5FT7RaAM4&pp=ygUHbMOgIGFuaA%3D%3D\n",
            "428.093 weergaven\n",
            "\n",
            "3:32\n",
            "\n",
            "1 maand geleden\n",
            "LÀ ANH - Cover Nhạc Ngoại Lời Việt by PHẠM LỊCH ( It’s You -Mộng Nhiên)\n",
            "/watch?v=6-LmZLjS5WI&pp=ygUHbMOgIGFuaA%3D%3D\n",
            "https://www.youtube.com/watch?v=6-LmZLjS5WI&pp=ygUHbMOgIGFuaA%3D%3D\n",
            "17.251.883 weergaven\n",
            "\n",
            "3:43\n",
            "\n",
            "1 maand geleden\n",
            "Là Anh - Này Không Gian Bao La Thuộc Về Cho Riêng Cho Hai Ta| Nhạc Trẻ Đang Hot Nhất Tiktok Hiện Nay\n",
            "/watch?v=cYs6uN5vsfs&pp=ygUHbMOgIGFuaA%3D%3D\n",
            "https://www.youtube.com/watch?v=cYs6uN5vsfs&pp=ygUHbMOgIGFuaA%3D%3D\n",
            "199.126 weergaven\n",
            "\n",
            "1:34:10\n",
            "\n",
            "1 maand geleden\n",
            "Cùng Đi Cùng Đi Ngàn Năm Về Sau Mình Vẫn Có Nhau.. Là Anh Lofi ♫ Nhạc Lofi Chill Hot TikTok 2023\n",
            "/watch?v=K4tmy9PK4Is&pp=ygUHbMOgIGFuaA%3D%3D\n",
            "https://www.youtube.com/watch?v=K4tmy9PK4Is&pp=ygUHbMOgIGFuaA%3D%3D\n",
            "804.455 weergaven\n",
            "\n",
            "2:02:44\n",
            "\n",
            "1 maand geleden\n",
            "Là Anh - Phạm Lịch [ Official Lyrics Video]\n",
            "/watch?v=Yd5FT7RaAM4&pp=ygUHbMOgIGFuaA%3D%3D\n",
            "https://www.youtube.com/watch?v=Yd5FT7RaAM4&pp=ygUHbMOgIGFuaA%3D%3D\n",
            "428.093 weergaven\n",
            "\n",
            "3:32\n",
            "\n",
            "1 maand geleden\n",
            "Là Anh Remix , Này Không Gian Bao La Thuộc Về Cho Riêng Hai Ta Remix Hot TikTok - Lk Nhạc Remix 2023\n",
            "/watch?v=dKFOVbcF6Cw&pp=ygUHbMOgIGFuaA%3D%3D\n",
            "https://www.youtube.com/watch?v=dKFOVbcF6Cw&pp=ygUHbMOgIGFuaA%3D%3D\n",
            "39.387 weergaven\n",
            "\n",
            "1:18:14\n",
            "\n",
            "17 uur geleden\n",
            "Là Anh - Phạm Lịch | Siêu Phẩm Âm Nhạc Cực Cuốn tại Mây Sài Gòn | Official Music Video\n",
            "/watch?v=aiqDHUXjM1c&pp=ygUHbMOgIGFuaA%3D%3D\n",
            "https://www.youtube.com/watch?v=aiqDHUXjM1c&pp=ygUHbMOgIGFuaA%3D%3D\n",
            "1.347.970 weergaven\n",
            "\n",
            "4:09\n",
            "\n",
            "3 weken geleden\n",
            "Là Anh - Phạm Lịch | Siêu Phẩm Âm Nhạc Cực Cuốn tại Mây Sài Gòn | Official Music Video\n",
            "/watch?v=aiqDHUXjM1c&pp=ygUHbMOgIGFuaA%3D%3D\n",
            "https://www.youtube.com/watch?v=aiqDHUXjM1c&pp=ygUHbMOgIGFuaA%3D%3D\n",
            "1.347.970 weergaven\n",
            "\n",
            "4:09\n",
            "\n",
            "3 weken geleden\n",
            "Là Anh - Phạm Lịch | Siêu Phẩm Âm Nhạc Cực Cuốn tại Mây Sài Gòn | Official Music Video\n",
            "/watch?v=aiqDHUXjM1c&pp=ygUHbMOgIGFuaA%3D%3D\n",
            "https://www.youtube.com/watch?v=aiqDHUXjM1c&pp=ygUHbMOgIGFuaA%3D%3D\n",
            "1.347.970 weergaven\n",
            "\n",
            "4:09\n",
            "\n",
            "3 weken geleden\n"
          ]
        }
      ]
    }
  ]
}